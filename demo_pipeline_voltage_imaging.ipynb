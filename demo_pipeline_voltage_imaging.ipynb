{
  "cells": [
    {
      "cell_type": "markdown",
      "metadata": {
        "id": "view-in-github",
        "colab_type": "text"
      },
      "source": [
        "<a href=\"https://colab.research.google.com/github/vncntprvst/tools/blob/master/demo_pipeline_voltage_imaging.ipynb\" target=\"_parent\"><img src=\"https://colab.research.google.com/assets/colab-badge.svg\" alt=\"Open In Colab\"/></a>"
      ]
    },
    {
      "cell_type": "code",
      "execution_count": null,
      "metadata": {
        "id": "_TzQEAkRJDNS"
      },
      "outputs": [],
      "source": [
        "# Demo pipeline for processing voltage imaging data. The processing pipeline\n",
        "# includes motion correction, memory mapping, segmentation, denoising and source\n",
        "# extraction. The demo shows how to construct the params, MotionCorrect and VOLPY \n",
        "# objects and call the relevant functions. \n",
        "# Dataset courtesy of Karel Svoboda Lab (Janelia Research Campus)."
      ]
    },
    {
      "cell_type": "code",
      "execution_count": null,
      "metadata": {
        "colab": {
          "base_uri": "https://localhost:8080/"
        },
        "id": "BG-Rn32_IIR7",
        "outputId": "d208be0c-52f6-4b00-b1fb-aca6dfba13b5"
      },
      "outputs": [
        {
          "name": "stdout",
          "output_type": "stream",
          "text": [
            "Cloning into 'CaImAn'...\n",
            "remote: Enumerating objects: 25304, done.\u001b[K\n",
            "remote: Counting objects: 100% (1/1), done.\u001b[K\n",
            "remote: Total 25304 (delta 0), reused 0 (delta 0), pack-reused 25303\u001b[K\n",
            "Receiving objects: 100% (25304/25304), 515.88 MiB | 16.56 MiB/s, done.\n",
            "Resolving deltas: 100% (16982/16982), done.\n",
            "Updating files: 100% (318/318), done.\n",
            "/content/CaImAn\n"
          ]
        }
      ],
      "source": [
        "# Clone CaImAn from Github\n",
        "!git clone https://github.com/flatironinstitute/CaImAn.git\n",
        "%cd /content/CaImAn"
      ]
    },
    {
      "cell_type": "code",
      "execution_count": null,
      "metadata": {
        "colab": {
          "base_uri": "https://localhost:8080/"
        },
        "id": "Bp-HtoSqIW6S",
        "outputId": "a3576219-0061-4049-9d4b-3ec2fdaec4cf"
      },
      "outputs": [
        {
          "name": "stdout",
          "output_type": "stream",
          "text": [
            "Looking in indexes: https://pypi.org/simple, https://us-python.pkg.dev/colab-wheels/public/simple/\n",
            "Requirement already satisfied: bokeh in /usr/local/lib/python3.8/dist-packages (from -r requirements.txt (line 1)) (2.3.3)\n",
            "Collecting coverage\n",
            "  Downloading coverage-7.1.0-cp38-cp38-manylinux_2_5_x86_64.manylinux1_x86_64.manylinux_2_17_x86_64.manylinux2014_x86_64.whl (227 kB)\n",
            "\u001b[2K     \u001b[90m━━━━━━━━━━━━━━━━━━━━━━━━━━━━━━━━━━━━━━\u001b[0m \u001b[32m227.8/227.8 KB\u001b[0m \u001b[31m19.4 MB/s\u001b[0m eta \u001b[36m0:00:00\u001b[0m\n",
            "\u001b[?25hRequirement already satisfied: cython in /usr/local/lib/python3.8/dist-packages (from -r requirements.txt (line 3)) (0.29.33)\n",
            "Requirement already satisfied: future in /usr/local/lib/python3.8/dist-packages (from -r requirements.txt (line 4)) (0.16.0)\n",
            "Requirement already satisfied: h5py in /usr/local/lib/python3.8/dist-packages (from -r requirements.txt (line 5)) (3.1.0)\n",
            "Requirement already satisfied: holoviews in /usr/local/lib/python3.8/dist-packages (from -r requirements.txt (line 6)) (1.14.9)\n",
            "Requirement already satisfied: ipykernel in /usr/local/lib/python3.8/dist-packages (from -r requirements.txt (line 7)) (5.3.4)\n",
            "Requirement already satisfied: ipython in /usr/local/lib/python3.8/dist-packages (from -r requirements.txt (line 8)) (7.9.0)\n",
            "Collecting ipyparallel\n",
            "  Downloading ipyparallel-8.4.1-py3-none-any.whl (298 kB)\n",
            "\u001b[2K     \u001b[90m━━━━━━━━━━━━━━━━━━━━━━━━━━━━━━━━━━━━━━\u001b[0m \u001b[32m298.0/298.0 KB\u001b[0m \u001b[31m35.0 MB/s\u001b[0m eta \u001b[36m0:00:00\u001b[0m\n",
            "\u001b[?25hCollecting jupyter\n",
            "  Downloading jupyter-1.0.0-py2.py3-none-any.whl (2.7 kB)\n",
            "Requirement already satisfied: keras in /usr/local/lib/python3.8/dist-packages (from -r requirements.txt (line 11)) (2.9.0)\n",
            "Requirement already satisfied: matplotlib in /usr/local/lib/python3.8/dist-packages (from -r requirements.txt (line 12)) (3.2.2)\n",
            "Collecting mypy\n",
            "  Downloading mypy-0.991-cp38-cp38-manylinux_2_17_x86_64.manylinux2014_x86_64.whl (17.9 MB)\n",
            "\u001b[2K     \u001b[90m━━━━━━━━━━━━━━━━━━━━━━━━━━━━━━━━━━━━━━━━\u001b[0m \u001b[32m17.9/17.9 MB\u001b[0m \u001b[31m82.6 MB/s\u001b[0m eta \u001b[36m0:00:00\u001b[0m\n",
            "\u001b[?25hRequirement already satisfied: numpy in /usr/local/lib/python3.8/dist-packages (from -r requirements.txt (line 14)) (1.21.6)\n",
            "Collecting numpydoc\n",
            "  Downloading numpydoc-1.5.0-py3-none-any.whl (52 kB)\n",
            "\u001b[2K     \u001b[90m━━━━━━━━━━━━━━━━━━━━━━━━━━━━━━━━━━━━━━━━\u001b[0m \u001b[32m52.4/52.4 KB\u001b[0m \u001b[31m5.8 MB/s\u001b[0m eta \u001b[36m0:00:00\u001b[0m\n",
            "\u001b[?25hRequirement already satisfied: opencv-python in /usr/local/lib/python3.8/dist-packages (from -r requirements.txt (line 16)) (4.6.0.66)\n",
            "Collecting peakutils\n",
            "  Downloading PeakUtils-1.3.4-py3-none-any.whl (7.7 kB)\n",
            "Collecting pims\n",
            "  Downloading PIMS-0.6.1.tar.gz (86 kB)\n",
            "\u001b[2K     \u001b[90m━━━━━━━━━━━━━━━━━━━━━━━━━━━━━━━━━━━━━━━━\u001b[0m \u001b[32m86.0/86.0 KB\u001b[0m \u001b[31m11.3 MB/s\u001b[0m eta \u001b[36m0:00:00\u001b[0m\n",
            "\u001b[?25h  Preparing metadata (setup.py) ... \u001b[?25l\u001b[?25hdone\n",
            "Requirement already satisfied: psutil in /usr/local/lib/python3.8/dist-packages (from -r requirements.txt (line 19)) (5.4.8)\n",
            "Collecting pynwb\n",
            "  Downloading pynwb-2.2.0-py3-none-any.whl (126 kB)\n",
            "\u001b[2K     \u001b[90m━━━━━━━━━━━━━━━━━━━━━━━━━━━━━━━━━━━━━━\u001b[0m \u001b[32m126.6/126.6 KB\u001b[0m \u001b[31m16.7 MB/s\u001b[0m eta \u001b[36m0:00:00\u001b[0m\n",
            "\u001b[?25hCollecting pyqtgraph\n",
            "  Downloading pyqtgraph-0.13.1-py3-none-any.whl (966 kB)\n",
            "\u001b[2K     \u001b[90m━━━━━━━━━━━━━━━━━━━━━━━━━━━━━━━━━━━━━━\u001b[0m \u001b[32m966.1/966.1 KB\u001b[0m \u001b[31m63.7 MB/s\u001b[0m eta \u001b[36m0:00:00\u001b[0m\n",
            "\u001b[?25hRequirement already satisfied: scikit-image in /usr/local/lib/python3.8/dist-packages (from -r requirements.txt (line 22)) (0.18.3)\n",
            "Requirement already satisfied: scikit-learn in /usr/local/lib/python3.8/dist-packages (from -r requirements.txt (line 23)) (1.0.2)\n",
            "Requirement already satisfied: scipy in /usr/local/lib/python3.8/dist-packages (from -r requirements.txt (line 24)) (1.7.3)\n",
            "Requirement already satisfied: tensorflow in /usr/local/lib/python3.8/dist-packages (from -r requirements.txt (line 25)) (2.9.2)\n",
            "Requirement already satisfied: tifffile in /usr/local/lib/python3.8/dist-packages (from -r requirements.txt (line 26)) (2022.10.10)\n",
            "Collecting tk\n",
            "  Downloading tk-0.1.0-py3-none-any.whl (3.9 kB)\n",
            "Requirement already satisfied: tqdm in /usr/local/lib/python3.8/dist-packages (from -r requirements.txt (line 28)) (4.64.1)\n",
            "Collecting yapf\n",
            "  Downloading yapf-0.32.0-py2.py3-none-any.whl (190 kB)\n",
            "\u001b[2K     \u001b[90m━━━━━━━━━━━━━━━━━━━━━━━━━━━━━━━━━━━━━━\u001b[0m \u001b[32m190.2/190.2 KB\u001b[0m \u001b[31m20.5 MB/s\u001b[0m eta \u001b[36m0:00:00\u001b[0m\n",
            "\u001b[?25hRequirement already satisfied: packaging>=16.8 in /usr/local/lib/python3.8/dist-packages (from bokeh->-r requirements.txt (line 1)) (21.3)\n",
            "Requirement already satisfied: PyYAML>=3.10 in /usr/local/lib/python3.8/dist-packages (from bokeh->-r requirements.txt (line 1)) (6.0)\n",
            "Requirement already satisfied: Jinja2>=2.9 in /usr/local/lib/python3.8/dist-packages (from bokeh->-r requirements.txt (line 1)) (2.11.3)\n",
            "Requirement already satisfied: typing-extensions>=3.7.4 in /usr/local/lib/python3.8/dist-packages (from bokeh->-r requirements.txt (line 1)) (4.4.0)\n",
            "Requirement already satisfied: python-dateutil>=2.1 in /usr/local/lib/python3.8/dist-packages (from bokeh->-r requirements.txt (line 1)) (2.8.2)\n",
            "Requirement already satisfied: pillow>=7.1.0 in /usr/local/lib/python3.8/dist-packages (from bokeh->-r requirements.txt (line 1)) (7.1.2)\n",
            "Requirement already satisfied: tornado>=5.1 in /usr/local/lib/python3.8/dist-packages (from bokeh->-r requirements.txt (line 1)) (6.0.4)\n",
            "Requirement already satisfied: pyviz-comms>=0.7.4 in /usr/local/lib/python3.8/dist-packages (from holoviews->-r requirements.txt (line 6)) (2.2.1)\n",
            "Requirement already satisfied: pandas>=0.20.0 in /usr/local/lib/python3.8/dist-packages (from holoviews->-r requirements.txt (line 6)) (1.3.5)\n",
            "Requirement already satisfied: colorcet in /usr/local/lib/python3.8/dist-packages (from holoviews->-r requirements.txt (line 6)) (3.0.1)\n",
            "Requirement already satisfied: param<2.0,>=1.9.3 in /usr/local/lib/python3.8/dist-packages (from holoviews->-r requirements.txt (line 6)) (1.12.3)\n",
            "Requirement already satisfied: panel>=0.8.0 in /usr/local/lib/python3.8/dist-packages (from holoviews->-r requirements.txt (line 6)) (0.12.1)\n",
            "Requirement already satisfied: jupyter-client in /usr/local/lib/python3.8/dist-packages (from ipykernel->-r requirements.txt (line 7)) (6.1.12)\n",
            "Requirement already satisfied: traitlets>=4.1.0 in /usr/local/lib/python3.8/dist-packages (from ipykernel->-r requirements.txt (line 7)) (5.7.1)\n",
            "Requirement already satisfied: pexpect in /usr/local/lib/python3.8/dist-packages (from ipython->-r requirements.txt (line 8)) (4.8.0)\n",
            "Requirement already satisfied: pickleshare in /usr/local/lib/python3.8/dist-packages (from ipython->-r requirements.txt (line 8)) (0.7.5)\n",
            "Requirement already satisfied: decorator in /usr/local/lib/python3.8/dist-packages (from ipython->-r requirements.txt (line 8)) (4.4.2)\n",
            "Requirement already satisfied: setuptools>=18.5 in /usr/local/lib/python3.8/dist-packages (from ipython->-r requirements.txt (line 8)) (57.4.0)\n",
            "Collecting jedi>=0.10\n",
            "  Downloading jedi-0.18.2-py2.py3-none-any.whl (1.6 MB)\n",
            "\u001b[2K     \u001b[90m━━━━━━━━━━━━━━━━━━━━━━━━━━━━━━━━━━━━━━━━\u001b[0m \u001b[32m1.6/1.6 MB\u001b[0m \u001b[31m83.7 MB/s\u001b[0m eta \u001b[36m0:00:00\u001b[0m\n",
            "\u001b[?25hRequirement already satisfied: backcall in /usr/local/lib/python3.8/dist-packages (from ipython->-r requirements.txt (line 8)) (0.2.0)\n",
            "Requirement already satisfied: pygments in /usr/local/lib/python3.8/dist-packages (from ipython->-r requirements.txt (line 8)) (2.6.1)\n",
            "Requirement already satisfied: prompt-toolkit<2.1.0,>=2.0.0 in /usr/local/lib/python3.8/dist-packages (from ipython->-r requirements.txt (line 8)) (2.0.10)\n",
            "Requirement already satisfied: entrypoints in /usr/local/lib/python3.8/dist-packages (from ipyparallel->-r requirements.txt (line 9)) (0.4)\n",
            "Requirement already satisfied: pyzmq>=18 in /usr/local/lib/python3.8/dist-packages (from ipyparallel->-r requirements.txt (line 9)) (23.2.1)\n",
            "Requirement already satisfied: notebook in /usr/local/lib/python3.8/dist-packages (from jupyter->-r requirements.txt (line 10)) (5.7.16)\n",
            "Collecting qtconsole\n",
            "  Downloading qtconsole-5.4.0-py3-none-any.whl (121 kB)\n",
            "\u001b[2K     \u001b[90m━━━━━━━━━━━━━━━━━━━━━━━━━━━━━━━━━━━━━━\u001b[0m \u001b[32m121.0/121.0 KB\u001b[0m \u001b[31m16.0 MB/s\u001b[0m eta \u001b[36m0:00:00\u001b[0m\n",
            "\u001b[?25hRequirement already satisfied: nbconvert in /usr/local/lib/python3.8/dist-packages (from jupyter->-r requirements.txt (line 10)) (5.6.1)\n",
            "Requirement already satisfied: jupyter-console in /usr/local/lib/python3.8/dist-packages (from jupyter->-r requirements.txt (line 10)) (6.1.0)\n",
            "Requirement already satisfied: ipywidgets in /usr/local/lib/python3.8/dist-packages (from jupyter->-r requirements.txt (line 10)) (7.7.1)\n",
            "Requirement already satisfied: pyparsing!=2.0.4,!=2.1.2,!=2.1.6,>=2.0.1 in /usr/local/lib/python3.8/dist-packages (from matplotlib->-r requirements.txt (line 12)) (3.0.9)\n",
            "Requirement already satisfied: kiwisolver>=1.0.1 in /usr/local/lib/python3.8/dist-packages (from matplotlib->-r requirements.txt (line 12)) (1.4.4)\n",
            "Requirement already satisfied: cycler>=0.10 in /usr/local/lib/python3.8/dist-packages (from matplotlib->-r requirements.txt (line 12)) (0.11.0)\n",
            "Requirement already satisfied: tomli>=1.1.0 in /usr/local/lib/python3.8/dist-packages (from mypy->-r requirements.txt (line 13)) (2.0.1)\n",
            "Collecting mypy-extensions>=0.4.3\n",
            "  Downloading mypy_extensions-0.4.3-py2.py3-none-any.whl (4.5 kB)\n",
            "Collecting sphinx>=4.2\n",
            "  Downloading sphinx-6.1.3-py3-none-any.whl (3.0 MB)\n",
            "\u001b[2K     \u001b[90m━━━━━━━━━━━━━━━━━━━━━━━━━━━━━━━━━━━━━━━━\u001b[0m \u001b[32m3.0/3.0 MB\u001b[0m \u001b[31m95.9 MB/s\u001b[0m eta \u001b[36m0:00:00\u001b[0m\n",
            "\u001b[?25hRequirement already satisfied: imageio in /usr/local/lib/python3.8/dist-packages (from pims->-r requirements.txt (line 18)) (2.9.0)\n",
            "Collecting slicerator>=0.9.8\n",
            "  Downloading slicerator-1.1.0-py3-none-any.whl (10 kB)\n",
            "Collecting hdmf<4,>=3.4.2\n",
            "  Downloading hdmf-3.5.1-py3-none-any.whl (191 kB)\n",
            "\u001b[2K     \u001b[90m━━━━━━━━━━━━━━━━━━━━━━━━━━━━━━━━━━━━━━\u001b[0m \u001b[32m191.5/191.5 KB\u001b[0m \u001b[31m22.0 MB/s\u001b[0m eta \u001b[36m0:00:00\u001b[0m\n",
            "\u001b[?25hRequirement already satisfied: PyWavelets>=1.1.1 in /usr/local/lib/python3.8/dist-packages (from scikit-image->-r requirements.txt (line 22)) (1.4.1)\n",
            "Requirement already satisfied: networkx>=2.0 in /usr/local/lib/python3.8/dist-packages (from scikit-image->-r requirements.txt (line 22)) (3.0)\n",
            "Requirement already satisfied: threadpoolctl>=2.0.0 in /usr/local/lib/python3.8/dist-packages (from scikit-learn->-r requirements.txt (line 23)) (3.1.0)\n",
            "Requirement already satisfied: joblib>=0.11 in /usr/local/lib/python3.8/dist-packages (from scikit-learn->-r requirements.txt (line 23)) (1.2.0)\n",
            "Requirement already satisfied: gast<=0.4.0,>=0.2.1 in /usr/local/lib/python3.8/dist-packages (from tensorflow->-r requirements.txt (line 25)) (0.4.0)\n",
            "Requirement already satisfied: protobuf<3.20,>=3.9.2 in /usr/local/lib/python3.8/dist-packages (from tensorflow->-r requirements.txt (line 25)) (3.19.6)\n",
            "Requirement already satisfied: absl-py>=1.0.0 in /usr/local/lib/python3.8/dist-packages (from tensorflow->-r requirements.txt (line 25)) (1.3.0)\n",
            "Requirement already satisfied: tensorflow-estimator<2.10.0,>=2.9.0rc0 in /usr/local/lib/python3.8/dist-packages (from tensorflow->-r requirements.txt (line 25)) (2.9.0)\n",
            "Requirement already satisfied: astunparse>=1.6.0 in /usr/local/lib/python3.8/dist-packages (from tensorflow->-r requirements.txt (line 25)) (1.6.3)\n",
            "Requirement already satisfied: flatbuffers<2,>=1.12 in /usr/local/lib/python3.8/dist-packages (from tensorflow->-r requirements.txt (line 25)) (1.12)\n",
            "Requirement already satisfied: google-pasta>=0.1.1 in /usr/local/lib/python3.8/dist-packages (from tensorflow->-r requirements.txt (line 25)) (0.2.0)\n",
            "Requirement already satisfied: six>=1.12.0 in /usr/local/lib/python3.8/dist-packages (from tensorflow->-r requirements.txt (line 25)) (1.15.0)\n",
            "Requirement already satisfied: grpcio<2.0,>=1.24.3 in /usr/local/lib/python3.8/dist-packages (from tensorflow->-r requirements.txt (line 25)) (1.51.1)\n",
            "Requirement already satisfied: tensorboard<2.10,>=2.9 in /usr/local/lib/python3.8/dist-packages (from tensorflow->-r requirements.txt (line 25)) (2.9.1)\n",
            "Requirement already satisfied: keras-preprocessing>=1.1.1 in /usr/local/lib/python3.8/dist-packages (from tensorflow->-r requirements.txt (line 25)) (1.1.2)\n",
            "Requirement already satisfied: wrapt>=1.11.0 in /usr/local/lib/python3.8/dist-packages (from tensorflow->-r requirements.txt (line 25)) (1.14.1)\n",
            "Requirement already satisfied: opt-einsum>=2.3.2 in /usr/local/lib/python3.8/dist-packages (from tensorflow->-r requirements.txt (line 25)) (3.3.0)\n",
            "Requirement already satisfied: libclang>=13.0.0 in /usr/local/lib/python3.8/dist-packages (from tensorflow->-r requirements.txt (line 25)) (15.0.6.1)\n",
            "Requirement already satisfied: termcolor>=1.1.0 in /usr/local/lib/python3.8/dist-packages (from tensorflow->-r requirements.txt (line 25)) (2.2.0)\n",
            "Requirement already satisfied: tensorflow-io-gcs-filesystem>=0.23.1 in /usr/local/lib/python3.8/dist-packages (from tensorflow->-r requirements.txt (line 25)) (0.29.0)\n",
            "Requirement already satisfied: wheel<1.0,>=0.23.0 in /usr/local/lib/python3.8/dist-packages (from astunparse>=1.6.0->tensorflow->-r requirements.txt (line 25)) (0.38.4)\n",
            "Collecting ruamel.yaml<1,>=0.16\n",
            "  Downloading ruamel.yaml-0.17.21-py3-none-any.whl (109 kB)\n",
            "\u001b[2K     \u001b[90m━━━━━━━━━━━━━━━━━━━━━━━━━━━━━━━━━━━━━━\u001b[0m \u001b[32m109.5/109.5 KB\u001b[0m \u001b[31m15.2 MB/s\u001b[0m eta \u001b[36m0:00:00\u001b[0m\n",
            "\u001b[?25hRequirement already satisfied: jsonschema<5,>=2.6.0 in /usr/local/lib/python3.8/dist-packages (from hdmf<4,>=3.4.2->pynwb->-r requirements.txt (line 20)) (4.3.3)\n",
            "Requirement already satisfied: parso<0.9.0,>=0.8.0 in /usr/local/lib/python3.8/dist-packages (from jedi>=0.10->ipython->-r requirements.txt (line 8)) (0.8.3)\n",
            "Requirement already satisfied: MarkupSafe>=0.23 in /usr/local/lib/python3.8/dist-packages (from Jinja2>=2.9->bokeh->-r requirements.txt (line 1)) (2.0.1)\n",
            "Requirement already satisfied: pytz>=2017.3 in /usr/local/lib/python3.8/dist-packages (from pandas>=0.20.0->holoviews->-r requirements.txt (line 6)) (2022.7)\n",
            "Requirement already satisfied: markdown in /usr/local/lib/python3.8/dist-packages (from panel>=0.8.0->holoviews->-r requirements.txt (line 6)) (3.4.1)\n",
            "Requirement already satisfied: requests in /usr/local/lib/python3.8/dist-packages (from panel>=0.8.0->holoviews->-r requirements.txt (line 6)) (2.25.1)\n",
            "Requirement already satisfied: pyct>=0.4.4 in /usr/local/lib/python3.8/dist-packages (from panel>=0.8.0->holoviews->-r requirements.txt (line 6)) (0.4.8)\n",
            "Requirement already satisfied: bleach in /usr/local/lib/python3.8/dist-packages (from panel>=0.8.0->holoviews->-r requirements.txt (line 6)) (5.0.1)\n",
            "Requirement already satisfied: wcwidth in /usr/local/lib/python3.8/dist-packages (from prompt-toolkit<2.1.0,>=2.0.0->ipython->-r requirements.txt (line 8)) (0.2.5)\n",
            "Collecting Jinja2>=2.9\n",
            "  Downloading Jinja2-3.1.2-py3-none-any.whl (133 kB)\n",
            "\u001b[2K     \u001b[90m━━━━━━━━━━━━━━━━━━━━━━━━━━━━━━━━━━━━━━\u001b[0m \u001b[32m133.1/133.1 KB\u001b[0m \u001b[31m17.0 MB/s\u001b[0m eta \u001b[36m0:00:00\u001b[0m\n",
            "\u001b[?25hRequirement already satisfied: sphinxcontrib-devhelp in /usr/local/lib/python3.8/dist-packages (from sphinx>=4.2->numpydoc->-r requirements.txt (line 15)) (1.0.2)\n",
            "Requirement already satisfied: imagesize>=1.3 in /usr/local/lib/python3.8/dist-packages (from sphinx>=4.2->numpydoc->-r requirements.txt (line 15)) (1.4.1)\n",
            "Requirement already satisfied: sphinxcontrib-serializinghtml>=1.1.5 in /usr/local/lib/python3.8/dist-packages (from sphinx>=4.2->numpydoc->-r requirements.txt (line 15)) (1.1.5)\n",
            "Collecting docutils<0.20,>=0.18\n",
            "  Downloading docutils-0.19-py3-none-any.whl (570 kB)\n",
            "\u001b[2K     \u001b[90m━━━━━━━━━━━━━━━━━━━━━━━━━━━━━━━━━━━━━━\u001b[0m \u001b[32m570.5/570.5 KB\u001b[0m \u001b[31m58.8 MB/s\u001b[0m eta \u001b[36m0:00:00\u001b[0m\n",
            "\u001b[?25hRequirement already satisfied: sphinxcontrib-htmlhelp>=2.0.0 in /usr/local/lib/python3.8/dist-packages (from sphinx>=4.2->numpydoc->-r requirements.txt (line 15)) (2.0.0)\n",
            "Collecting pygments\n",
            "  Downloading Pygments-2.14.0-py3-none-any.whl (1.1 MB)\n",
            "\u001b[2K     \u001b[90m━━━━━━━━━━━━━━━━━━━━━━━━━━━━━━━━━━━━━━━━\u001b[0m \u001b[32m1.1/1.1 MB\u001b[0m \u001b[31m75.9 MB/s\u001b[0m eta \u001b[36m0:00:00\u001b[0m\n",
            "\u001b[?25hRequirement already satisfied: importlib-metadata>=4.8 in /usr/local/lib/python3.8/dist-packages (from sphinx>=4.2->numpydoc->-r requirements.txt (line 15)) (6.0.0)\n",
            "Requirement already satisfied: babel>=2.9 in /usr/local/lib/python3.8/dist-packages (from sphinx>=4.2->numpydoc->-r requirements.txt (line 15)) (2.11.0)\n",
            "Requirement already satisfied: sphinxcontrib-applehelp in /usr/local/lib/python3.8/dist-packages (from sphinx>=4.2->numpydoc->-r requirements.txt (line 15)) (1.0.3)\n",
            "Requirement already satisfied: sphinxcontrib-jsmath in /usr/local/lib/python3.8/dist-packages (from sphinx>=4.2->numpydoc->-r requirements.txt (line 15)) (1.0.1)\n",
            "Requirement already satisfied: alabaster<0.8,>=0.7 in /usr/local/lib/python3.8/dist-packages (from sphinx>=4.2->numpydoc->-r requirements.txt (line 15)) (0.7.12)\n",
            "Requirement already satisfied: snowballstemmer>=2.0 in /usr/local/lib/python3.8/dist-packages (from sphinx>=4.2->numpydoc->-r requirements.txt (line 15)) (2.2.0)\n",
            "Requirement already satisfied: sphinxcontrib-qthelp in /usr/local/lib/python3.8/dist-packages (from sphinx>=4.2->numpydoc->-r requirements.txt (line 15)) (1.0.3)\n",
            "Requirement already satisfied: tensorboard-data-server<0.7.0,>=0.6.0 in /usr/local/lib/python3.8/dist-packages (from tensorboard<2.10,>=2.9->tensorflow->-r requirements.txt (line 25)) (0.6.1)\n",
            "Requirement already satisfied: google-auth-oauthlib<0.5,>=0.4.1 in /usr/local/lib/python3.8/dist-packages (from tensorboard<2.10,>=2.9->tensorflow->-r requirements.txt (line 25)) (0.4.6)\n",
            "Requirement already satisfied: werkzeug>=1.0.1 in /usr/local/lib/python3.8/dist-packages (from tensorboard<2.10,>=2.9->tensorflow->-r requirements.txt (line 25)) (1.0.1)\n",
            "Requirement already satisfied: google-auth<3,>=1.6.3 in /usr/local/lib/python3.8/dist-packages (from tensorboard<2.10,>=2.9->tensorflow->-r requirements.txt (line 25)) (2.16.0)\n",
            "Requirement already satisfied: tensorboard-plugin-wit>=1.6.0 in /usr/local/lib/python3.8/dist-packages (from tensorboard<2.10,>=2.9->tensorflow->-r requirements.txt (line 25)) (1.8.1)\n",
            "Requirement already satisfied: ipython-genutils~=0.2.0 in /usr/local/lib/python3.8/dist-packages (from ipywidgets->jupyter->-r requirements.txt (line 10)) (0.2.0)\n",
            "Requirement already satisfied: jupyterlab-widgets>=1.0.0 in /usr/local/lib/python3.8/dist-packages (from ipywidgets->jupyter->-r requirements.txt (line 10)) (3.0.5)\n",
            "Requirement already satisfied: widgetsnbextension~=3.6.0 in /usr/local/lib/python3.8/dist-packages (from ipywidgets->jupyter->-r requirements.txt (line 10)) (3.6.1)\n",
            "Requirement already satisfied: jupyter-core>=4.6.0 in /usr/local/lib/python3.8/dist-packages (from jupyter-client->ipykernel->-r requirements.txt (line 7)) (5.1.3)\n",
            "Requirement already satisfied: testpath in /usr/local/lib/python3.8/dist-packages (from nbconvert->jupyter->-r requirements.txt (line 10)) (0.6.0)\n",
            "Requirement already satisfied: pandocfilters>=1.4.1 in /usr/local/lib/python3.8/dist-packages (from nbconvert->jupyter->-r requirements.txt (line 10)) (1.5.0)\n",
            "Requirement already satisfied: nbformat>=4.4 in /usr/local/lib/python3.8/dist-packages (from nbconvert->jupyter->-r requirements.txt (line 10)) (5.7.1)\n",
            "Requirement already satisfied: defusedxml in /usr/local/lib/python3.8/dist-packages (from nbconvert->jupyter->-r requirements.txt (line 10)) (0.7.1)\n",
            "Requirement already satisfied: mistune<2,>=0.8.1 in /usr/local/lib/python3.8/dist-packages (from nbconvert->jupyter->-r requirements.txt (line 10)) (0.8.4)\n",
            "Requirement already satisfied: Send2Trash in /usr/local/lib/python3.8/dist-packages (from notebook->jupyter->-r requirements.txt (line 10)) (1.8.0)\n",
            "Requirement already satisfied: terminado>=0.8.1 in /usr/local/lib/python3.8/dist-packages (from notebook->jupyter->-r requirements.txt (line 10)) (0.13.3)\n",
            "Requirement already satisfied: prometheus-client in /usr/local/lib/python3.8/dist-packages (from notebook->jupyter->-r requirements.txt (line 10)) (0.15.0)\n",
            "Collecting Jinja2>=2.9\n",
            "  Downloading Jinja2-3.0.0-py3-none-any.whl (133 kB)\n",
            "\u001b[2K     \u001b[90m━━━━━━━━━━━━━━━━━━━━━━━━━━━━━━━━━━━━━━\u001b[0m \u001b[32m133.4/133.4 KB\u001b[0m \u001b[31m18.5 MB/s\u001b[0m eta \u001b[36m0:00:00\u001b[0m\n",
            "\u001b[?25hRequirement already satisfied: ptyprocess>=0.5 in /usr/local/lib/python3.8/dist-packages (from pexpect->ipython->-r requirements.txt (line 8)) (0.7.0)\n",
            "Collecting qtpy>=2.0.1\n",
            "  Downloading QtPy-2.3.0-py3-none-any.whl (83 kB)\n",
            "\u001b[2K     \u001b[90m━━━━━━━━━━━━━━━━━━━━━━━━━━━━━━━━━━━━━━━━\u001b[0m \u001b[32m83.6/83.6 KB\u001b[0m \u001b[31m11.7 MB/s\u001b[0m eta \u001b[36m0:00:00\u001b[0m\n",
            "\u001b[?25hRequirement already satisfied: rsa<5,>=3.1.4 in /usr/local/lib/python3.8/dist-packages (from google-auth<3,>=1.6.3->tensorboard<2.10,>=2.9->tensorflow->-r requirements.txt (line 25)) (4.9)\n",
            "Requirement already satisfied: pyasn1-modules>=0.2.1 in /usr/local/lib/python3.8/dist-packages (from google-auth<3,>=1.6.3->tensorboard<2.10,>=2.9->tensorflow->-r requirements.txt (line 25)) (0.2.8)\n",
            "Requirement already satisfied: cachetools<6.0,>=2.0.0 in /usr/local/lib/python3.8/dist-packages (from google-auth<3,>=1.6.3->tensorboard<2.10,>=2.9->tensorflow->-r requirements.txt (line 25)) (5.2.1)\n",
            "Requirement already satisfied: requests-oauthlib>=0.7.0 in /usr/local/lib/python3.8/dist-packages (from google-auth-oauthlib<0.5,>=0.4.1->tensorboard<2.10,>=2.9->tensorflow->-r requirements.txt (line 25)) (1.3.1)\n",
            "Requirement already satisfied: zipp>=0.5 in /usr/local/lib/python3.8/dist-packages (from importlib-metadata>=4.8->sphinx>=4.2->numpydoc->-r requirements.txt (line 15)) (3.11.0)\n",
            "Requirement already satisfied: importlib-resources>=1.4.0 in /usr/local/lib/python3.8/dist-packages (from jsonschema<5,>=2.6.0->hdmf<4,>=3.4.2->pynwb->-r requirements.txt (line 20)) (5.10.2)\n",
            "Requirement already satisfied: pyrsistent!=0.17.0,!=0.17.1,!=0.17.2,>=0.14.0 in /usr/local/lib/python3.8/dist-packages (from jsonschema<5,>=2.6.0->hdmf<4,>=3.4.2->pynwb->-r requirements.txt (line 20)) (0.19.3)\n",
            "Requirement already satisfied: attrs>=17.4.0 in /usr/local/lib/python3.8/dist-packages (from jsonschema<5,>=2.6.0->hdmf<4,>=3.4.2->pynwb->-r requirements.txt (line 20)) (22.2.0)\n",
            "Requirement already satisfied: platformdirs>=2.5 in /usr/local/lib/python3.8/dist-packages (from jupyter-core>=4.6.0->jupyter-client->ipykernel->-r requirements.txt (line 7)) (2.6.2)\n",
            "Requirement already satisfied: fastjsonschema in /usr/local/lib/python3.8/dist-packages (from nbformat>=4.4->nbconvert->jupyter->-r requirements.txt (line 10)) (2.16.2)\n",
            "Requirement already satisfied: urllib3<1.27,>=1.21.1 in /usr/local/lib/python3.8/dist-packages (from requests->panel>=0.8.0->holoviews->-r requirements.txt (line 6)) (1.24.3)\n",
            "Requirement already satisfied: certifi>=2017.4.17 in /usr/local/lib/python3.8/dist-packages (from requests->panel>=0.8.0->holoviews->-r requirements.txt (line 6)) (2022.12.7)\n",
            "Requirement already satisfied: chardet<5,>=3.0.2 in /usr/local/lib/python3.8/dist-packages (from requests->panel>=0.8.0->holoviews->-r requirements.txt (line 6)) (4.0.0)\n",
            "Requirement already satisfied: idna<3,>=2.5 in /usr/local/lib/python3.8/dist-packages (from requests->panel>=0.8.0->holoviews->-r requirements.txt (line 6)) (2.10)\n",
            "Collecting ruamel.yaml.clib>=0.2.6\n",
            "  Downloading ruamel.yaml.clib-0.2.7-cp38-cp38-manylinux_2_17_x86_64.manylinux2014_x86_64.manylinux_2_24_x86_64.whl (555 kB)\n",
            "\u001b[2K     \u001b[90m━━━━━━━━━━━━━━━━━━━━━━━━━━━━━━━━━━━━━━\u001b[0m \u001b[32m555.3/555.3 KB\u001b[0m \u001b[31m50.1 MB/s\u001b[0m eta \u001b[36m0:00:00\u001b[0m\n",
            "\u001b[?25hRequirement already satisfied: webencodings in /usr/local/lib/python3.8/dist-packages (from bleach->panel>=0.8.0->holoviews->-r requirements.txt (line 6)) (0.5.1)\n",
            "Requirement already satisfied: pyasn1<0.5.0,>=0.4.6 in /usr/local/lib/python3.8/dist-packages (from pyasn1-modules>=0.2.1->google-auth<3,>=1.6.3->tensorboard<2.10,>=2.9->tensorflow->-r requirements.txt (line 25)) (0.4.8)\n",
            "Requirement already satisfied: oauthlib>=3.0.0 in /usr/local/lib/python3.8/dist-packages (from requests-oauthlib>=0.7.0->google-auth-oauthlib<0.5,>=0.4.1->tensorboard<2.10,>=2.9->tensorflow->-r requirements.txt (line 25)) (3.2.2)\n",
            "Building wheels for collected packages: pims\n",
            "  Building wheel for pims (setup.py) ... \u001b[?25l\u001b[?25hdone\n",
            "  Created wheel for pims: filename=PIMS-0.6.1-py3-none-any.whl size=82635 sha256=b1b0269a103acf31cde37af98b2c57227413e3a381064688b5a1738473761a4d\n",
            "  Stored in directory: /root/.cache/pip/wheels/5c/bd/a9/9cede777cb4fcdd2ba712cdb0d0c9082aba544322eb5ad7af1\n",
            "Successfully built pims\n",
            "Installing collected packages: yapf, tk, slicerator, mypy-extensions, ruamel.yaml.clib, pyqtgraph, pygments, mypy, Jinja2, jedi, docutils, coverage, sphinx, ruamel.yaml, qtpy, pims, peakutils, numpydoc, hdmf, qtconsole, pynwb, ipyparallel, jupyter\n",
            "  Attempting uninstall: pygments\n",
            "    Found existing installation: Pygments 2.6.1\n",
            "    Uninstalling Pygments-2.6.1:\n",
            "      Successfully uninstalled Pygments-2.6.1\n",
            "  Attempting uninstall: Jinja2\n",
            "    Found existing installation: Jinja2 2.11.3\n",
            "    Uninstalling Jinja2-2.11.3:\n",
            "      Successfully uninstalled Jinja2-2.11.3\n",
            "  Attempting uninstall: docutils\n",
            "    Found existing installation: docutils 0.16\n",
            "    Uninstalling docutils-0.16:\n",
            "      Successfully uninstalled docutils-0.16\n",
            "  Attempting uninstall: sphinx\n",
            "    Found existing installation: Sphinx 3.5.4\n",
            "    Uninstalling Sphinx-3.5.4:\n",
            "      Successfully uninstalled Sphinx-3.5.4\n",
            "\u001b[31mERROR: pip's dependency resolver does not currently take into account all the packages that are installed. This behaviour is the source of the following dependency conflicts.\n",
            "flask 1.1.4 requires Jinja2<3.0,>=2.10.1, but you have jinja2 3.0.0 which is incompatible.\u001b[0m\u001b[31m\n",
            "\u001b[0mSuccessfully installed Jinja2-3.0.0 coverage-7.1.0 docutils-0.19 hdmf-3.5.1 ipyparallel-8.4.1 jedi-0.18.2 jupyter-1.0.0 mypy-0.991 mypy-extensions-0.4.3 numpydoc-1.5.0 peakutils-1.3.4 pims-0.6.1 pygments-2.14.0 pynwb-2.2.0 pyqtgraph-0.13.1 qtconsole-5.4.0 qtpy-2.3.0 ruamel.yaml-0.17.21 ruamel.yaml.clib-0.2.7 slicerator-1.1.0 sphinx-6.1.3 tk-0.1.0 yapf-0.32.0\n",
            "Looking in indexes: https://pypi.org/simple, https://us-python.pkg.dev/colab-wheels/public/simple/\n",
            "Collecting imageio-ffmpeg\n",
            "  Downloading imageio_ffmpeg-0.4.8-py3-none-manylinux2010_x86_64.whl (26.9 MB)\n",
            "\u001b[2K     \u001b[90m━━━━━━━━━━━━━━━━━━━━━━━━━━━━━━━━━━━━━━━━\u001b[0m \u001b[32m26.9/26.9 MB\u001b[0m \u001b[31m17.6 MB/s\u001b[0m eta \u001b[36m0:00:00\u001b[0m\n",
            "\u001b[?25hInstalling collected packages: imageio-ffmpeg\n",
            "Successfully installed imageio-ffmpeg-0.4.8\n"
          ]
        }
      ],
      "source": [
        "# Install relevant packages\n",
        "!pip install -r requirements.txt\n",
        "! pip install imageio-ffmpeg"
      ]
    },
    {
      "cell_type": "code",
      "execution_count": null,
      "metadata": {
        "colab": {
          "base_uri": "https://localhost:8080/"
        },
        "id": "uNSMw3ylIZSo",
        "outputId": "b6bc38c8-a142-4e74-82d2-bebc2dbffd01"
      },
      "outputs": [
        {
          "name": "stdout",
          "output_type": "stream",
          "text": [
            "Looking in indexes: https://pypi.org/simple, https://us-python.pkg.dev/colab-wheels/public/simple/\n",
            "Obtaining file:///content/CaImAn\n",
            "  Preparing metadata (setup.py) ... \u001b[?25l\u001b[?25hdone\n",
            "Installing collected packages: caiman\n",
            "  Running setup.py develop for caiman\n",
            "Successfully installed caiman-1.9.14\n",
            "Installed /root/caiman_data\n"
          ]
        }
      ],
      "source": [
        "# Install CaImAn package\n",
        "!pip install -e . \n",
        "# Install CaImAn manager for relevant datasets\n",
        "!python caimanmanager.py install --inplace\n",
        "# Downgrade tensorflow to use Mask R-CNN\n"
      ]
    },
    {
      "cell_type": "code",
      "execution_count": null,
      "metadata": {
        "cellView": "both",
        "id": "NzHIeSOVHRm3"
      },
      "outputs": [],
      "source": [
        "# Import packages\n",
        "import os\n",
        "import cv2\n",
        "import glob\n",
        "import logging\n",
        "import matplotlib.pyplot as plt\n",
        "import numpy as np\n",
        "import tensorflow as tf\n",
        "import h5py\n",
        "import imageio\n",
        "from IPython.display import HTML, display, clear_output\n",
        "\n",
        "from base64 import b64encode\n",
        "\n",
        "try:\n",
        "    cv2.setNumThreads(0)\n",
        "except:\n",
        "    pass\n",
        "\n",
        "try:\n",
        "    if __IPYTHON__:\n",
        "        # this is used for debugging purposes only. allows to reload classes\n",
        "        # when changed\n",
        "        get_ipython().magic('load_ext autoreload')\n",
        "        get_ipython().magic('autoreload 2')\n",
        "except NameError:\n",
        "    pass\n",
        "\n",
        "import caiman as cm\n",
        "from caiman.motion_correction import MotionCorrect\n",
        "from caiman.utils.utils import download_demo, download_model\n",
        "from caiman.source_extraction.volpy import utils\n",
        "from caiman.source_extraction.volpy.volparams import volparams\n",
        "from caiman.source_extraction.volpy.volpy import VOLPY\n",
        "from caiman.source_extraction.volpy.mrcnn import visualize, neurons\n",
        "import caiman.source_extraction.volpy.mrcnn.model as modellib\n",
        "from caiman.summary_images import local_correlations_movie_offline\n",
        "from caiman.summary_images import mean_image\n",
        "from caiman.paths import caiman_datadir\n",
        "\n",
        "# Set up the logger (optional); change this if you like.\n",
        "# You can log to a file using the filename parameter, or make the output more\n",
        "# or less verbose by setting level to logging.DEBUG, logging.INFO,\n",
        "# logging.WARNING, or logging.ERROR\n",
        "logging.basicConfig(format=\n",
        "                    \"%(relativeCreated)12d [%(filename)s:%(funcName)20s():%(lineno)s]\" \\\n",
        "                    \"[%(process)d] %(message)s\",\n",
        "                    level=logging.INFO)"
      ]
    },
    {
      "cell_type": "code",
      "execution_count": null,
      "metadata": {
        "colab": {
          "base_uri": "https://localhost:8080/"
        },
        "id": "EW54aHS_HRnE",
        "outputId": "6fd13521-983f-4711-ac76-fc3a601075f4"
      },
      "outputs": [
        {
          "name": "stderr",
          "output_type": "stream",
          "text": [
            "WARNING:root:Changing key fnames in group data from None to /root/caiman_data/example_movies/volpy/demo_voltage_imaging.hdf5\n",
            "WARNING:root:Changing key fr in group data from None to 400\n",
            "WARNING:root:Changing key max_shifts in group motion from (6, 6) to (5, 5)\n",
            "WARNING:root:Changing key gSig_filt in group motion from None to (3, 3)\n",
            "WARNING:root:Changing key strides in group motion from (96, 96) to (48, 48)\n",
            "WARNING:root:Changing key overlaps in group motion from (32, 32) to (24, 24)\n"
          ]
        }
      ],
      "source": [
        "# Load demo movie and ROIs\n",
        "# file path to movie file (will download if not present)\n",
        "fnames = download_demo('demo_voltage_imaging.hdf5', 'volpy') \n",
        "# file path to ROIs file (will download if not present)\n",
        "path_ROIs = download_demo('demo_voltage_imaging_ROIs.hdf5', 'volpy')  \n",
        "\n",
        "# Setup some parameters for data and motion correction\n",
        "# dataset parameters\n",
        "fr = 400                                        # sample rate of the movie\n",
        "ROIs = None                                     # Region of interests\n",
        "index = None                                    # index of neurons\n",
        "weights = None                                  # reuse spatial weights by \n",
        "                                                # opts.change_params(params_dict={'weights':vpy.estimates['weights']})\n",
        "# motion correction parameters\n",
        "pw_rigid = False                                # flag for pw-rigid motion correction\n",
        "gSig_filt = (3, 3)                              # size of filter, in general gSig (see below),\n",
        "                                                # change this one if algorithm does not work\n",
        "max_shifts = (5, 5)                             # maximum allowed rigid shift\n",
        "strides = (48, 48)                              # start a new patch for pw-rigid motion correction every x pixels\n",
        "overlaps = (24, 24)                             # overlap between pathes (size of patch strides+overlaps)\n",
        "max_deviation_rigid = 3                         # maximum deviation allowed for patch with respect to rigid shifts\n",
        "border_nan = 'copy'\n",
        "\n",
        "opts_dict = {\n",
        "    'fnames': fnames,\n",
        "    'fr': fr,\n",
        "    'index': index,\n",
        "    'ROIs': ROIs,\n",
        "    'weights': weights,\n",
        "    'pw_rigid': pw_rigid,\n",
        "    'max_shifts': max_shifts,\n",
        "    'gSig_filt': gSig_filt,\n",
        "    'strides': strides,\n",
        "    'overlaps': overlaps,\n",
        "    'max_deviation_rigid': max_deviation_rigid,\n",
        "    'border_nan': border_nan\n",
        "}\n",
        "\n",
        "opts = volparams(params_dict=opts_dict)"
      ]
    },
    {
      "cell_type": "code",
      "execution_count": null,
      "metadata": {
        "colab": {
          "background_save": true,
          "base_uri": "https://localhost:8080/"
        },
        "id": "_HqUNdCyPBBW",
        "outputId": "ea7cfec7-8fe9-43cd-8ea0-ab32b6befbd6"
      },
      "outputs": [],
      "source": [
        "# Display the movie\n",
        "# save the movie in the .mp4 format\n",
        "m_orig = cm.load(fnames)\n",
        "ds_ratio = 0.2\n",
        "moviehandle = m_orig.resize(1, 1, ds_ratio)\n",
        "min_, max_ = np.min(moviehandle), np.max(moviehandle)\n",
        "moviehandle = np.array((moviehandle-min_)/(max_-min_)*255,dtype='uint8')\n",
        "imageio.mimwrite('/root/caiman_data/raw_movie.mp4', moviehandle , fps = 60, quality=8)\n",
        "\n",
        "# play the movie\n",
        "mp4 = open('/root/caiman_data/raw_movie.mp4','rb').read()\n",
        "data_url = \"data:video/mp4;base64,\" + b64encode(mp4).decode()\n",
        "HTML(\"\"\"\n",
        "<video width=400 controls>\n",
        "      <source src=\"%s\" type=\"video/mp4\">\n",
        "</video>\n",
        "\"\"\" % data_url)"
      ]
    },
    {
      "cell_type": "code",
      "execution_count": null,
      "metadata": {
        "colab": {
          "background_save": true
        },
        "id": "F6wKKAaeK1V_"
      },
      "outputs": [],
      "source": [
        " # %% start a cluster for parallel processing\n",
        "c, dview, n_processes = cm.cluster.setup_cluster(\n",
        "    backend='local', n_processes=None, single_thread=False)"
      ]
    },
    {
      "cell_type": "code",
      "execution_count": null,
      "metadata": {
        "id": "LQBBg_xb13rp"
      },
      "outputs": [],
      "source": [
        "# MOTION CORRECTION\n",
        "# Create a motion correction object with the specified parameters\n",
        "mc = MotionCorrect(fnames, dview=dview, **opts.get_group('motion'))\n",
        "# Run piecewise rigid motion correction\n",
        "mc.motion_correct(save_movie=True)\n",
        "dview.terminate()"
      ]
    },
    {
      "cell_type": "code",
      "execution_count": null,
      "metadata": {
        "colab": {
          "background_save": true
        },
        "id": "MQ8BDHESHRnh",
        "outputId": "f66a77ea-4c00-415f-a002-41630308fd1d"
      },
      "outputs": [],
      "source": [
        "# motion correction compared with original movie\n",
        "m_orig = cm.load(fnames)\n",
        "m_rig = cm.load(mc.mmap_file)\n",
        "m_orig.fr = 400\n",
        "m_rig.fr = 400\n",
        "ds_ratio = 0.2\n",
        "moviehandle = cm.concatenate([m_orig.resize(1, 1, ds_ratio) - mc.min_mov * mc.nonneg_movie,\n",
        "                              m_rig.resize(1, 1, ds_ratio)], axis=2)\n",
        "min_, max_ = np.min(moviehandle), np.max(moviehandle)\n",
        "moviehandle = np.array((moviehandle-min_)/(max_-min_)*255,dtype='uint8')\n",
        "imageio.mimwrite('/root/caiman_data/motion_correction_movie.mp4', moviehandle , fps = 60, quality=8)\n",
        "\n",
        "mp4 = open('/root/caiman_data/motion_correction_movie.mp4','rb').read()\n",
        "data_url = \"data:video/mp4;base64,\" + b64encode(mp4).decode()\n",
        "HTML(\"\"\"\n",
        "<video width=600 controls>\n",
        "      <source src=\"%s\" type=\"video/mp4\">\n",
        "</video>\n",
        "\"\"\" % data_url)"
      ]
    },
    {
      "cell_type": "code",
      "execution_count": null,
      "metadata": {
        "colab": {
          "background_save": true
        },
        "id": "SdeR6igh2cAd",
        "outputId": "73e0a0c3-a76b-4b9b-8c91-679ee80e4475"
      },
      "outputs": [],
      "source": [
        "# part of movie subtracted baseline\n",
        "m_rig2 = m_rig.computeDFF(secsWindow=1)[0][:1000]\n",
        "moviehandle1 = -m_rig2\n",
        "min_, max_ = np.min(moviehandle1), np.max(moviehandle1)\n",
        "moviehandle1 = np.array((moviehandle1-min_)/(max_-min_)*255,dtype='uint8')\n",
        "imageio.mimwrite('/root/caiman_data/motion_correction_bl_movie.mp4', moviehandle1 , fps = 60, quality=8)\n",
        "\n",
        "mp4 = open('/root/caiman_data/motion_correction_bl_movie.mp4','rb').read()\n",
        "data_url = \"data:video/mp4;base64,\" + b64encode(mp4).decode()\n",
        "HTML(\"\"\"\n",
        "<video width=300 controls>\n",
        "      <source src=\"%s\" type=\"video/mp4\">\n",
        "</video>\n",
        "\"\"\" % data_url)"
      ]
    },
    {
      "cell_type": "code",
      "execution_count": null,
      "metadata": {
        "colab": {
          "background_save": true
        },
        "id": "tpJDa20bHRnp",
        "outputId": "623c0782-fb39-4099-b746-51b7b3b4aae8"
      },
      "outputs": [
        {
          "name": "stdout",
          "output_type": "stream",
          "text": [
            "Decode mmap filename /root/caiman_data/example_movies/volpy/demo_voltage_imaging_rig__d1_100_d2_100_d3_1_order_F_frames_20000.mmap\n",
            "Decode mmap filename /root/caiman_data/example_movies/volpy/demo_voltage_imaging_rig__d1_100_d2_100_d3_1_order_F_frames_20000.mmap\n",
            "Decode mmap filename /root/caiman_data/example_movies/volpy/demo_voltage_imaging_rig__d1_100_d2_100_d3_1_order_F_frames_20000.mmap\n",
            "Decode mmap filename /root/caiman_data/example_movies/volpy/demo_voltage_imaging_rig__d1_100_d2_100_d3_1_order_F_frames_20000.mmap\n",
            "Decode mmap filename /root/caiman_data/example_movies/volpy/demo_voltage_imaging_rig__d1_100_d2_100_d3_1_order_F_frames_20000.mmap\n",
            "Decode mmap filename /root/caiman_data/example_movies/volpy/demo_voltage_imaging_rig__d1_100_d2_100_d3_1_order_F_frames_20000.mmap\n",
            "Decode mmap filename /root/caiman_data/example_movies/volpy/demo_voltage_imaging_rig__d1_100_d2_100_d3_1_order_F_frames_20000.mmap\n",
            "Decode mmap filename /root/caiman_data/example_movies/volpy/demo_voltage_imaging_rig__d1_100_d2_100_d3_1_order_F_frames_20000.mmap\n",
            "Decode mmap filename /root/caiman_data/example_movies/volpy/demo_voltage_imaging_rig__d1_100_d2_100_d3_1_order_F_frames_20000.mmap\n",
            "Decode mmap filename /root/caiman_data/example_movies/volpy/demo_voltage_imaging_rig__d1_100_d2_100_d3_1_order_F_frames_20000.mmap\n",
            "Decode mmap filename /root/caiman_data/example_movies/volpy/demo_voltage_imaging_rig__d1_100_d2_100_d3_1_order_F_frames_20000.mmap\n"
          ]
        },
        {
          "name": "stderr",
          "output_type": "stream",
          "text": [
            "WARNING:root:Changing key fnames in group data from /root/caiman_data/example_movies/volpy/demo_voltage_imaging.hdf5 to /root/caiman_data/example_movies/volpy/memmap__d1_100_d2_100_d3_1_order_C_frames_20000.mmap\n"
          ]
        },
        {
          "data": {
            "text/plain": [
              "<caiman.source_extraction.volpy.volparams.volparams at 0x7f504043bac0>"
            ]
          },
          "execution_count": 12,
          "metadata": {},
          "output_type": "execute_result"
        }
      ],
      "source": [
        "# Memory Mapping\n",
        "c, dview, n_processes = cm.cluster.setup_cluster(\n",
        "    backend='local', n_processes=None, single_thread=False)\n",
        "border_to_0 = 0 if mc.border_nan == 'copy' else mc.border_to_0\n",
        "fname_new = cm.save_memmap_join(mc.mmap_file, base_name='memmap_',\n",
        "                           add_to_mov=border_to_0, dview=dview, n_chunks=10)\n",
        "dview.terminate()\n",
        "\n",
        "# change fnames to the new motion corrected one\n",
        "opts.change_params(params_dict={'fnames': fname_new})    "
      ]
    },
    {
      "cell_type": "code",
      "execution_count": null,
      "metadata": {
        "colab": {
          "background_save": true
        },
        "id": "TLSPvv5Nt-u-"
      },
      "outputs": [],
      "source": [
        "if 'dview' in locals():\n",
        "    cm.stop_server(dview=dview)\n",
        "c, dview, n_processes = cm.cluster.setup_cluster(\n",
        "    backend='local', n_processes=None, single_thread=False)"
      ]
    },
    {
      "cell_type": "code",
      "execution_count": null,
      "metadata": {
        "colab": {
          "background_save": true
        },
        "id": "yBTRlgBunb4Q",
        "outputId": "31c93401-5610-40d2-d2eb-1a90a706d0f0"
      },
      "outputs": [
        {
          "name": "stdout",
          "output_type": "stream",
          "text": [
            "Decode mmap filename /root/caiman_data/example_movies/volpy/demo_voltage_imaging_rig__d1_100_d2_100_d3_1_order_F_frames_20000.mmap\n",
            "Decode mmap filename /root/caiman_data/example_movies/volpy/demo_voltage_imaging_rig__d1_100_d2_100_d3_1_order_F_frames_20000.mmap\n"
          ]
        },
        {
          "data": {
            "text/plain": [
              "Text(0.5, 1.0, 'corr image')"
            ]
          },
          "execution_count": 14,
          "metadata": {},
          "output_type": "execute_result"
        },
        {
          "data": {
            "image/png": "[encoded data removed]",
            "text/plain": [
              "<Figure size 432x288 with 2 Axes>"
            ]
          },
          "metadata": {},
          "output_type": "display_data"
        }
      ],
      "source": [
        "# %% SEGMENTATION\n",
        "# create summary images\n",
        "img = mean_image(mc.mmap_file[0], window = 1000, dview=dview)\n",
        "img = (img-np.mean(img))/np.std(img)\n",
        "\n",
        "gaussian_blur = False        # Use gaussian blur when there is too much noise in the video\n",
        "Cn = local_correlations_movie_offline(mc.mmap_file[0], fr=fr, window=fr*4, \n",
        "                                      stride=fr*4, winSize_baseline=fr, \n",
        "                                      remove_baseline=True, gaussian_blur=gaussian_blur,\n",
        "                                      dview=dview).max(axis=0)\n",
        "img_corr = (Cn-np.mean(Cn))/np.std(Cn)\n",
        "summary_images = np.stack([img, img, img_corr], axis=0).astype(np.float32)\n",
        "# save summary images which are used in the VolPy GUI\n",
        "cm.movie(summary_images).save(fnames[:-5] + '_summary_images.tif')\n",
        "fig, axs = plt.subplots(1, 2)\n",
        "axs[0].imshow(summary_images[0]); axs[1].imshow(summary_images[2])\n",
        "axs[0].set_title('mean image'); axs[1].set_title('corr image')"
      ]
    },
    {
      "cell_type": "code",
      "execution_count": null,
      "metadata": {
        "colab": {
          "background_save": true
        },
        "id": "yUDya-p2HRnu"
      },
      "outputs": [],
      "source": [
        "# SEGMENTATION\n",
        "# Create mean and correlation image\n",
        "use_maskrcnn = True  # set to True to predict the ROIs using the mask R-CNN\n",
        "if not use_maskrcnn:                 # use manual annotations\n",
        "    with h5py.File(path_ROIs, 'r') as fl:\n",
        "        ROIs = fl['mov'][()]  # load ROIs\n",
        "else:\n",
        "    weights_path = download_model('mask_rcnn')    \n",
        "    ROIs = utils.mrcnn_inference(img=summary_images.transpose([1, 2, 0]), size_range=[5, 22],\n",
        "                                  weights_path=weights_path, display_result=True) # size parameter decides size range of masks to be selected\n",
        "    cm.movie(ROIs).save(fnames[:-5] + '_mrcnn_ROIs.hdf5')\n",
        "\n",
        "    fig, axs = plt.subplots(1, 2)\n",
        "    axs[0].imshow(summary_images[0]); axs[1].imshow(ROIs.sum(0))\n",
        "    axs[0].set_title('mean image'); axs[1].set_title('masks')"
      ]
    },
    {
      "cell_type": "code",
      "execution_count": null,
      "metadata": {
        "colab": {
          "background_save": true
        },
        "id": "6z92CC4631AA"
      },
      "outputs": [],
      "source": [
        "# %% restart cluster to clean up memory\n",
        "cm.stop_server(dview=dview)\n",
        "c, dview, n_processes = cm.cluster.setup_cluster(\n",
        "    backend='local', n_processes=None, single_thread=False, maxtasksperchild=1)"
      ]
    },
    {
      "cell_type": "code",
      "execution_count": null,
      "metadata": {
        "colab": {
          "background_save": true
        },
        "id": "wCNTy-LZHRn6"
      },
      "outputs": [],
      "source": [
        "# %% parameters for trace denoising and spike extraction\n",
        "ROIs = ROIs                                   # region of interests\n",
        "index = list(range(len(ROIs)))                # index of neurons\n",
        "weights = None                                # if None, use ROIs for initialization; to reuse weights check reuse weights block \n",
        "\n",
        "template_size = 0.02                          # half size of the window length for spike templates, default is 20 ms \n",
        "context_size = 35                             # number of pixels surrounding the ROI to censor from the background PCA\n",
        "visualize_ROI = False                         # whether to visualize the region of interest inside the context region\n",
        "flip_signal = True                            # Important!! Flip signal or not, True for Voltron indicator, False for others\n",
        "hp_freq_pb = 1 / 3                            # parameter for high-pass filter to remove photobleaching\n",
        "clip = 100                                    # maximum number of spikes to form spike template\n",
        "threshold_method = 'adaptive_threshold'       # adaptive_threshold or simple \n",
        "min_spikes= 10                                # minimal spikes to be found\n",
        "pnorm = 0.5                                   # a variable deciding the amount of spikes chosen for adaptive threshold method\n",
        "threshold = 3                                 # threshold for finding spikes only used in simple threshold method, Increase the threshold to find less spikes\n",
        "do_plot = False                               # plot detail of spikes, template for the last iteration\n",
        "ridge_bg= 0.01                                # ridge regression regularizer strength for background removement, larger value specifies stronger regularization \n",
        "sub_freq = 20                                 # frequency for subthreshold extraction\n",
        "weight_update = 'ridge'                       # ridge or NMF for weight update\n",
        "n_iter = 2                                    # number of iterations alternating between estimating spike times and spatial filters\n",
        "\n",
        "opts_dict={'fnames': fname_new,\n",
        "            'ROIs': ROIs,\n",
        "            'index': index,\n",
        "            'weights': weights,\n",
        "            'template_size': template_size, \n",
        "            'context_size': context_size,\n",
        "            'visualize_ROI': visualize_ROI, \n",
        "            'flip_signal': flip_signal,\n",
        "            'hp_freq_pb': hp_freq_pb,\n",
        "            'clip': clip,\n",
        "            'threshold_method': threshold_method,\n",
        "            'min_spikes':min_spikes,\n",
        "            'pnorm': pnorm, \n",
        "            'threshold': threshold,\n",
        "            'do_plot':do_plot,\n",
        "            'ridge_bg':ridge_bg,\n",
        "            'sub_freq': sub_freq,\n",
        "            'weight_update': weight_update,\n",
        "            'n_iter': n_iter}\n",
        "\n",
        "opts.change_params(params_dict=opts_dict);    "
      ]
    },
    {
      "cell_type": "code",
      "execution_count": null,
      "metadata": {
        "colab": {
          "background_save": true
        },
        "id": "IAm_iznuHRoA"
      },
      "outputs": [],
      "source": [
        "#%% TRACE DENOISING AND SPIKE DETECTION\n",
        "vpy = VOLPY(n_processes=n_processes, dview=dview, params=opts)\n",
        "vpy.fit(n_processes=n_processes, dview=dview)"
      ]
    },
    {
      "cell_type": "code",
      "execution_count": null,
      "metadata": {
        "colab": {
          "background_save": true
        },
        "id": "L9Otq9-hJMMj"
      },
      "outputs": [],
      "source": [
        "from matplotlib import markers\n",
        "indexes = np.where(vpy.estimates['locality'])[0]\n",
        "\n",
        "for i in range(len(indexes)):  \n",
        "  fig = plt.figure(constrained_layout=True,figsize=(16,6))\n",
        "  gs = fig.add_gridspec(1, 3)\n",
        "  ax1 = fig.add_subplot(gs[:1])\n",
        "  ax2 = fig.add_subplot(gs[1:])            \n",
        "  #ax1.imshow(ROIs[indexes][i])  \n",
        "  \n",
        "\n",
        "  spatial = vpy.estimates['weights'][indexes][i].copy()\n",
        "  ax1.imshow(img_corr, interpolation='None', cmap=plt.cm.gray, vmax=np.percentile(img_corr, 98))\n",
        "  spatial[spatial == 0] = np.nan\n",
        "  ax1.imshow(spatial, interpolation='None',\n",
        "            alpha=0.5, cmap=plt.cm.hot)\n",
        "  ax1.set_title(f'neuron {indexes[i]}')\n",
        "  plt.axis('off')     \n",
        "  ax2.plot(vpy.estimates['t'][indexes][i])\n",
        "  ax2.plot(vpy.estimates['spikes'][indexes][i],\n",
        "          np.max(vpy.estimates['t'][indexes][i]) * np.ones(vpy.estimates['spikes'][indexes][i].shape),\n",
        "          color='r', marker='.', markersize=5, fillstyle='none', linestyle='none')\n",
        "  ax2.legend(['trace', 'spikes'])\n",
        "\n",
        "  display(fig)\n",
        "  clear_output(wait=True)    \n",
        "  plt.pause(0.5) \n",
        " "
      ]
    },
    {
      "cell_type": "code",
      "execution_count": null,
      "metadata": {
        "colab": {
          "background_save": true
        },
        "id": "jv9zCNpbHRoO"
      },
      "outputs": [],
      "source": [
        "# STOP CLUSTER and clean up log files\n",
        "cm.stop_server(dview=dview)\n",
        "log_files = glob.glob('*_LOG_*')\n",
        "for log_file in log_files:\n",
        "    os.remove(log_file)"
      ]
    }
  ],
  "metadata": {
    "accelerator": "GPU",
    "colab": {
      "provenance": [],
      "include_colab_link": true
    },
    "kernelspec": {
      "display_name": "Python 3",
      "name": "python3"
    },
    "language_info": {
      "codemirror_mode": {
        "name": "ipython",
        "version": 3
      },
      "file_extension": ".py",
      "mimetype": "text/x-python",
      "name": "python",
      "nbconvert_exporter": "python",
      "pygments_lexer": "ipython3",
      "version": "3.7.3"
    }
  },
  "nbformat": 4,
  "nbformat_minor": 0
}